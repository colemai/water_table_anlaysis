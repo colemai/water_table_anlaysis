{
 "cells": [
  {
   "cell_type": "markdown",
   "metadata": {},
   "source": [
    "# Machine Learning Water Table Analysis"
   ]
  },
  {
   "cell_type": "code",
   "execution_count": 104,
   "metadata": {},
   "outputs": [],
   "source": [
    "import pandas as pd\n",
    "import numpy as np\n",
    "import scipy as sp\n",
    "from sklearn.model_selection import train_test_split\n",
    "import lightgbm as lgb\n",
    "from sklearn import metrics\n",
    "from sklearn.preprocessing import LabelBinarizer"
   ]
  },
  {
   "cell_type": "code",
   "execution_count": 105,
   "metadata": {},
   "outputs": [],
   "source": [
    "df = pd.read_csv(\"wt_for_ml.csv\")"
   ]
  },
  {
   "cell_type": "code",
   "execution_count": 106,
   "metadata": {},
   "outputs": [
    {
     "data": {
      "text/html": [
       "<div>\n",
       "<style scoped>\n",
       "    .dataframe tbody tr th:only-of-type {\n",
       "        vertical-align: middle;\n",
       "    }\n",
       "\n",
       "    .dataframe tbody tr th {\n",
       "        vertical-align: top;\n",
       "    }\n",
       "\n",
       "    .dataframe thead th {\n",
       "        text-align: right;\n",
       "    }\n",
       "</style>\n",
       "<table border=\"1\" class=\"dataframe\">\n",
       "  <thead>\n",
       "    <tr style=\"text-align: right;\">\n",
       "      <th></th>\n",
       "      <th>amount_tsh</th>\n",
       "      <th>gps_height</th>\n",
       "      <th>longitude</th>\n",
       "      <th>latitude</th>\n",
       "      <th>num_private</th>\n",
       "      <th>population</th>\n",
       "      <th>construction_year</th>\n",
       "      <th>basin_encoded</th>\n",
       "      <th>region_encoded</th>\n",
       "      <th>recorded_by_encoded</th>\n",
       "      <th>...</th>\n",
       "      <th>water_quality_encoded</th>\n",
       "      <th>quality_group_encoded</th>\n",
       "      <th>quantity_encoded</th>\n",
       "      <th>quantity_group_encoded</th>\n",
       "      <th>source_encoded</th>\n",
       "      <th>waterpoint_type_encoded</th>\n",
       "      <th>waterpoint_type_group_encoded</th>\n",
       "      <th>status_group_encoded</th>\n",
       "      <th>public_meeting_encoded</th>\n",
       "      <th>permit_encoded</th>\n",
       "    </tr>\n",
       "  </thead>\n",
       "  <tbody>\n",
       "    <tr>\n",
       "      <th>0</th>\n",
       "      <td>NaN</td>\n",
       "      <td>-0.964223</td>\n",
       "      <td>-0.560559</td>\n",
       "      <td>0.667174</td>\n",
       "      <td>NaN</td>\n",
       "      <td>NaN</td>\n",
       "      <td>NaN</td>\n",
       "      <td>0.0</td>\n",
       "      <td>17</td>\n",
       "      <td>0</td>\n",
       "      <td>...</td>\n",
       "      <td>6</td>\n",
       "      <td>2</td>\n",
       "      <td>3</td>\n",
       "      <td>3</td>\n",
       "      <td>5</td>\n",
       "      <td>6</td>\n",
       "      <td>5</td>\n",
       "      <td>0</td>\n",
       "      <td>0</td>\n",
       "      <td>0</td>\n",
       "    </tr>\n",
       "    <tr>\n",
       "      <th>1</th>\n",
       "      <td>NaN</td>\n",
       "      <td>1.360253</td>\n",
       "      <td>-0.095558</td>\n",
       "      <td>-1.075235</td>\n",
       "      <td>NaN</td>\n",
       "      <td>-0.610483</td>\n",
       "      <td>0.977047</td>\n",
       "      <td>7.0</td>\n",
       "      <td>3</td>\n",
       "      <td>0</td>\n",
       "      <td>...</td>\n",
       "      <td>6</td>\n",
       "      <td>2</td>\n",
       "      <td>1</td>\n",
       "      <td>1</td>\n",
       "      <td>1</td>\n",
       "      <td>4</td>\n",
       "      <td>3</td>\n",
       "      <td>0</td>\n",
       "      <td>1</td>\n",
       "      <td>0</td>\n",
       "    </tr>\n",
       "    <tr>\n",
       "      <th>2</th>\n",
       "      <td>NaN</td>\n",
       "      <td>-1.003181</td>\n",
       "      <td>1.585238</td>\n",
       "      <td>-0.582725</td>\n",
       "      <td>NaN</td>\n",
       "      <td>-0.088838</td>\n",
       "      <td>0.816693</td>\n",
       "      <td>7.0</td>\n",
       "      <td>14</td>\n",
       "      <td>0</td>\n",
       "      <td>...</td>\n",
       "      <td>6</td>\n",
       "      <td>2</td>\n",
       "      <td>3</td>\n",
       "      <td>3</td>\n",
       "      <td>7</td>\n",
       "      <td>4</td>\n",
       "      <td>3</td>\n",
       "      <td>2</td>\n",
       "      <td>1</td>\n",
       "      <td>0</td>\n",
       "    </tr>\n",
       "    <tr>\n",
       "      <th>3</th>\n",
       "      <td>NaN</td>\n",
       "      <td>1.713759</td>\n",
       "      <td>-1.384494</td>\n",
       "      <td>-0.772896</td>\n",
       "      <td>NaN</td>\n",
       "      <td>2.615988</td>\n",
       "      <td>0.656339</td>\n",
       "      <td>3.0</td>\n",
       "      <td>15</td>\n",
       "      <td>0</td>\n",
       "      <td>...</td>\n",
       "      <td>6</td>\n",
       "      <td>2</td>\n",
       "      <td>0</td>\n",
       "      <td>0</td>\n",
       "      <td>8</td>\n",
       "      <td>1</td>\n",
       "      <td>1</td>\n",
       "      <td>2</td>\n",
       "      <td>1</td>\n",
       "      <td>1</td>\n",
       "    </tr>\n",
       "    <tr>\n",
       "      <th>4</th>\n",
       "      <td>NaN</td>\n",
       "      <td>-0.619375</td>\n",
       "      <td>1.581261</td>\n",
       "      <td>-1.803390</td>\n",
       "      <td>NaN</td>\n",
       "      <td>0.363254</td>\n",
       "      <td>0.977047</td>\n",
       "      <td>8.0</td>\n",
       "      <td>12</td>\n",
       "      <td>0</td>\n",
       "      <td>...</td>\n",
       "      <td>6</td>\n",
       "      <td>2</td>\n",
       "      <td>1</td>\n",
       "      <td>1</td>\n",
       "      <td>8</td>\n",
       "      <td>2</td>\n",
       "      <td>1</td>\n",
       "      <td>0</td>\n",
       "      <td>1</td>\n",
       "      <td>0</td>\n",
       "    </tr>\n",
       "  </tbody>\n",
       "</table>\n",
       "<p>5 rows × 26 columns</p>\n",
       "</div>"
      ],
      "text/plain": [
       "   amount_tsh  gps_height  longitude  latitude  num_private  population  \\\n",
       "0         NaN   -0.964223  -0.560559  0.667174          NaN         NaN   \n",
       "1         NaN    1.360253  -0.095558 -1.075235          NaN   -0.610483   \n",
       "2         NaN   -1.003181   1.585238 -0.582725          NaN   -0.088838   \n",
       "3         NaN    1.713759  -1.384494 -0.772896          NaN    2.615988   \n",
       "4         NaN   -0.619375   1.581261 -1.803390          NaN    0.363254   \n",
       "\n",
       "   construction_year  basin_encoded  region_encoded  recorded_by_encoded  ...  \\\n",
       "0                NaN            0.0              17                    0  ...   \n",
       "1           0.977047            7.0               3                    0  ...   \n",
       "2           0.816693            7.0              14                    0  ...   \n",
       "3           0.656339            3.0              15                    0  ...   \n",
       "4           0.977047            8.0              12                    0  ...   \n",
       "\n",
       "   water_quality_encoded  quality_group_encoded  quantity_encoded  \\\n",
       "0                      6                      2                 3   \n",
       "1                      6                      2                 1   \n",
       "2                      6                      2                 3   \n",
       "3                      6                      2                 0   \n",
       "4                      6                      2                 1   \n",
       "\n",
       "   quantity_group_encoded  source_encoded  waterpoint_type_encoded  \\\n",
       "0                       3               5                        6   \n",
       "1                       1               1                        4   \n",
       "2                       3               7                        4   \n",
       "3                       0               8                        1   \n",
       "4                       1               8                        2   \n",
       "\n",
       "   waterpoint_type_group_encoded  status_group_encoded  \\\n",
       "0                              5                     0   \n",
       "1                              3                     0   \n",
       "2                              3                     2   \n",
       "3                              1                     2   \n",
       "4                              1                     0   \n",
       "\n",
       "   public_meeting_encoded  permit_encoded  \n",
       "0                       0               0  \n",
       "1                       1               0  \n",
       "2                       1               0  \n",
       "3                       1               1  \n",
       "4                       1               0  \n",
       "\n",
       "[5 rows x 26 columns]"
      ]
     },
     "execution_count": 106,
     "metadata": {},
     "output_type": "execute_result"
    }
   ],
   "source": [
    "df.head()"
   ]
  },
  {
   "cell_type": "code",
   "execution_count": 107,
   "metadata": {},
   "outputs": [
    {
     "data": {
      "text/plain": [
       "(59399, 26)"
      ]
     },
     "execution_count": 107,
     "metadata": {},
     "output_type": "execute_result"
    }
   ],
   "source": [
    "df.shape"
   ]
  },
  {
   "cell_type": "code",
   "execution_count": 108,
   "metadata": {},
   "outputs": [
    {
     "data": {
      "text/html": [
       "<div>\n",
       "<style scoped>\n",
       "    .dataframe tbody tr th:only-of-type {\n",
       "        vertical-align: middle;\n",
       "    }\n",
       "\n",
       "    .dataframe tbody tr th {\n",
       "        vertical-align: top;\n",
       "    }\n",
       "\n",
       "    .dataframe thead th {\n",
       "        text-align: right;\n",
       "    }\n",
       "</style>\n",
       "<table border=\"1\" class=\"dataframe\">\n",
       "  <thead>\n",
       "    <tr style=\"text-align: right;\">\n",
       "      <th></th>\n",
       "      <th>amount_tsh</th>\n",
       "      <th>gps_height</th>\n",
       "      <th>longitude</th>\n",
       "      <th>latitude</th>\n",
       "      <th>num_private</th>\n",
       "      <th>population</th>\n",
       "      <th>construction_year</th>\n",
       "      <th>basin_encoded</th>\n",
       "      <th>region_encoded</th>\n",
       "      <th>recorded_by_encoded</th>\n",
       "      <th>...</th>\n",
       "      <th>water_quality_encoded</th>\n",
       "      <th>quality_group_encoded</th>\n",
       "      <th>quantity_encoded</th>\n",
       "      <th>quantity_group_encoded</th>\n",
       "      <th>source_encoded</th>\n",
       "      <th>waterpoint_type_encoded</th>\n",
       "      <th>waterpoint_type_group_encoded</th>\n",
       "      <th>status_group_encoded</th>\n",
       "      <th>public_meeting_encoded</th>\n",
       "      <th>permit_encoded</th>\n",
       "    </tr>\n",
       "  </thead>\n",
       "  <tbody>\n",
       "    <tr>\n",
       "      <th>count</th>\n",
       "      <td>7872.000000</td>\n",
       "      <td>59397.000000</td>\n",
       "      <td>57587.000000</td>\n",
       "      <td>59399.000000</td>\n",
       "      <td>5.230000e+02</td>\n",
       "      <td>37289.000000</td>\n",
       "      <td>38690.000000</td>\n",
       "      <td>59398.000000</td>\n",
       "      <td>59399.000000</td>\n",
       "      <td>59399.0</td>\n",
       "      <td>...</td>\n",
       "      <td>59399.000000</td>\n",
       "      <td>59399.000000</td>\n",
       "      <td>59399.000000</td>\n",
       "      <td>59399.000000</td>\n",
       "      <td>59399.000000</td>\n",
       "      <td>59399.000000</td>\n",
       "      <td>59399.000000</td>\n",
       "      <td>59399.000000</td>\n",
       "      <td>59399.000000</td>\n",
       "      <td>59399.000000</td>\n",
       "    </tr>\n",
       "    <tr>\n",
       "      <th>mean</th>\n",
       "      <td>0.000117</td>\n",
       "      <td>0.000004</td>\n",
       "      <td>-0.000051</td>\n",
       "      <td>0.000024</td>\n",
       "      <td>-1.086872e-16</td>\n",
       "      <td>0.000002</td>\n",
       "      <td>0.000071</td>\n",
       "      <td>4.538234</td>\n",
       "      <td>9.835974</td>\n",
       "      <td>0.0</td>\n",
       "      <td>...</td>\n",
       "      <td>5.754289</td>\n",
       "      <td>2.263052</td>\n",
       "      <td>1.325746</td>\n",
       "      <td>1.325746</td>\n",
       "      <td>6.063183</td>\n",
       "      <td>2.573983</td>\n",
       "      <td>2.056129</td>\n",
       "      <td>0.841125</td>\n",
       "      <td>0.914914</td>\n",
       "      <td>0.705500</td>\n",
       "    </tr>\n",
       "    <tr>\n",
       "      <th>std</th>\n",
       "      <td>1.000100</td>\n",
       "      <td>1.000015</td>\n",
       "      <td>0.999998</td>\n",
       "      <td>0.999996</td>\n",
       "      <td>1.000000e+00</td>\n",
       "      <td>1.000026</td>\n",
       "      <td>0.999984</td>\n",
       "      <td>2.896886</td>\n",
       "      <td>5.937108</td>\n",
       "      <td>0.0</td>\n",
       "      <td>...</td>\n",
       "      <td>0.900827</td>\n",
       "      <td>0.784274</td>\n",
       "      <td>0.803752</td>\n",
       "      <td>0.803752</td>\n",
       "      <td>2.034203</td>\n",
       "      <td>1.781399</td>\n",
       "      <td>1.378897</td>\n",
       "      <td>0.949796</td>\n",
       "      <td>0.279011</td>\n",
       "      <td>0.455821</td>\n",
       "    </tr>\n",
       "    <tr>\n",
       "      <th>min</th>\n",
       "      <td>-0.550678</td>\n",
       "      <td>-1.094082</td>\n",
       "      <td>-2.125701</td>\n",
       "      <td>-2.017385</td>\n",
       "      <td>-9.827165e-01</td>\n",
       "      <td>-1.634453</td>\n",
       "      <td>-2.951625</td>\n",
       "      <td>0.000000</td>\n",
       "      <td>0.000000</td>\n",
       "      <td>0.0</td>\n",
       "      <td>...</td>\n",
       "      <td>0.000000</td>\n",
       "      <td>0.000000</td>\n",
       "      <td>0.000000</td>\n",
       "      <td>0.000000</td>\n",
       "      <td>0.000000</td>\n",
       "      <td>0.000000</td>\n",
       "      <td>0.000000</td>\n",
       "      <td>0.000000</td>\n",
       "      <td>0.000000</td>\n",
       "      <td>0.000000</td>\n",
       "    </tr>\n",
       "    <tr>\n",
       "      <th>25%</th>\n",
       "      <td>-0.514568</td>\n",
       "      <td>-0.964223</td>\n",
       "      <td>-0.715123</td>\n",
       "      <td>-0.962192</td>\n",
       "      <td>-6.686875e-01</td>\n",
       "      <td>-0.726405</td>\n",
       "      <td>-0.786846</td>\n",
       "      <td>2.000000</td>\n",
       "      <td>4.000000</td>\n",
       "      <td>0.0</td>\n",
       "      <td>...</td>\n",
       "      <td>6.000000</td>\n",
       "      <td>2.000000</td>\n",
       "      <td>1.000000</td>\n",
       "      <td>1.000000</td>\n",
       "      <td>5.000000</td>\n",
       "      <td>1.000000</td>\n",
       "      <td>1.000000</td>\n",
       "      <td>0.000000</td>\n",
       "      <td>1.000000</td>\n",
       "      <td>0.000000</td>\n",
       "    </tr>\n",
       "    <tr>\n",
       "      <th>50%</th>\n",
       "      <td>-0.369546</td>\n",
       "      <td>-0.431801</td>\n",
       "      <td>-0.055158</td>\n",
       "      <td>0.232384</td>\n",
       "      <td>-4.593349e-01</td>\n",
       "      <td>-0.282040</td>\n",
       "      <td>0.255454</td>\n",
       "      <td>4.000000</td>\n",
       "      <td>10.000000</td>\n",
       "      <td>0.0</td>\n",
       "      <td>...</td>\n",
       "      <td>6.000000</td>\n",
       "      <td>2.000000</td>\n",
       "      <td>1.000000</td>\n",
       "      <td>1.000000</td>\n",
       "      <td>7.000000</td>\n",
       "      <td>2.000000</td>\n",
       "      <td>1.000000</td>\n",
       "      <td>0.000000</td>\n",
       "      <td>1.000000</td>\n",
       "      <td>1.000000</td>\n",
       "    </tr>\n",
       "    <tr>\n",
       "      <th>75%</th>\n",
       "      <td>-0.115757</td>\n",
       "      <td>0.938933</td>\n",
       "      <td>0.799204</td>\n",
       "      <td>0.807839</td>\n",
       "      <td>4.827520e-01</td>\n",
       "      <td>0.297565</td>\n",
       "      <td>0.896870</td>\n",
       "      <td>7.000000</td>\n",
       "      <td>15.000000</td>\n",
       "      <td>0.0</td>\n",
       "      <td>...</td>\n",
       "      <td>6.000000</td>\n",
       "      <td>2.000000</td>\n",
       "      <td>2.000000</td>\n",
       "      <td>2.000000</td>\n",
       "      <td>8.000000</td>\n",
       "      <td>4.000000</td>\n",
       "      <td>3.000000</td>\n",
       "      <td>2.000000</td>\n",
       "      <td>1.000000</td>\n",
       "      <td>1.000000</td>\n",
       "    </tr>\n",
       "    <tr>\n",
       "      <th>max</th>\n",
       "      <td>6.700269</td>\n",
       "      <td>2.827660</td>\n",
       "      <td>1.992570</td>\n",
       "      <td>1.936864</td>\n",
       "      <td>2.576278e+00</td>\n",
       "      <td>5.282174</td>\n",
       "      <td>1.297755</td>\n",
       "      <td>9.000000</td>\n",
       "      <td>20.000000</td>\n",
       "      <td>0.0</td>\n",
       "      <td>...</td>\n",
       "      <td>7.000000</td>\n",
       "      <td>5.000000</td>\n",
       "      <td>4.000000</td>\n",
       "      <td>4.000000</td>\n",
       "      <td>9.000000</td>\n",
       "      <td>6.000000</td>\n",
       "      <td>5.000000</td>\n",
       "      <td>2.000000</td>\n",
       "      <td>1.000000</td>\n",
       "      <td>1.000000</td>\n",
       "    </tr>\n",
       "  </tbody>\n",
       "</table>\n",
       "<p>8 rows × 26 columns</p>\n",
       "</div>"
      ],
      "text/plain": [
       "        amount_tsh    gps_height     longitude      latitude   num_private  \\\n",
       "count  7872.000000  59397.000000  57587.000000  59399.000000  5.230000e+02   \n",
       "mean      0.000117      0.000004     -0.000051      0.000024 -1.086872e-16   \n",
       "std       1.000100      1.000015      0.999998      0.999996  1.000000e+00   \n",
       "min      -0.550678     -1.094082     -2.125701     -2.017385 -9.827165e-01   \n",
       "25%      -0.514568     -0.964223     -0.715123     -0.962192 -6.686875e-01   \n",
       "50%      -0.369546     -0.431801     -0.055158      0.232384 -4.593349e-01   \n",
       "75%      -0.115757      0.938933      0.799204      0.807839  4.827520e-01   \n",
       "max       6.700269      2.827660      1.992570      1.936864  2.576278e+00   \n",
       "\n",
       "         population  construction_year  basin_encoded  region_encoded  \\\n",
       "count  37289.000000       38690.000000   59398.000000    59399.000000   \n",
       "mean       0.000002           0.000071       4.538234        9.835974   \n",
       "std        1.000026           0.999984       2.896886        5.937108   \n",
       "min       -1.634453          -2.951625       0.000000        0.000000   \n",
       "25%       -0.726405          -0.786846       2.000000        4.000000   \n",
       "50%       -0.282040           0.255454       4.000000       10.000000   \n",
       "75%        0.297565           0.896870       7.000000       15.000000   \n",
       "max        5.282174           1.297755       9.000000       20.000000   \n",
       "\n",
       "       recorded_by_encoded  ...  water_quality_encoded  quality_group_encoded  \\\n",
       "count              59399.0  ...           59399.000000           59399.000000   \n",
       "mean                   0.0  ...               5.754289               2.263052   \n",
       "std                    0.0  ...               0.900827               0.784274   \n",
       "min                    0.0  ...               0.000000               0.000000   \n",
       "25%                    0.0  ...               6.000000               2.000000   \n",
       "50%                    0.0  ...               6.000000               2.000000   \n",
       "75%                    0.0  ...               6.000000               2.000000   \n",
       "max                    0.0  ...               7.000000               5.000000   \n",
       "\n",
       "       quantity_encoded  quantity_group_encoded  source_encoded  \\\n",
       "count      59399.000000            59399.000000    59399.000000   \n",
       "mean           1.325746                1.325746        6.063183   \n",
       "std            0.803752                0.803752        2.034203   \n",
       "min            0.000000                0.000000        0.000000   \n",
       "25%            1.000000                1.000000        5.000000   \n",
       "50%            1.000000                1.000000        7.000000   \n",
       "75%            2.000000                2.000000        8.000000   \n",
       "max            4.000000                4.000000        9.000000   \n",
       "\n",
       "       waterpoint_type_encoded  waterpoint_type_group_encoded  \\\n",
       "count             59399.000000                   59399.000000   \n",
       "mean                  2.573983                       2.056129   \n",
       "std                   1.781399                       1.378897   \n",
       "min                   0.000000                       0.000000   \n",
       "25%                   1.000000                       1.000000   \n",
       "50%                   2.000000                       1.000000   \n",
       "75%                   4.000000                       3.000000   \n",
       "max                   6.000000                       5.000000   \n",
       "\n",
       "       status_group_encoded  public_meeting_encoded  permit_encoded  \n",
       "count          59399.000000            59399.000000    59399.000000  \n",
       "mean               0.841125                0.914914        0.705500  \n",
       "std                0.949796                0.279011        0.455821  \n",
       "min                0.000000                0.000000        0.000000  \n",
       "25%                0.000000                1.000000        0.000000  \n",
       "50%                0.000000                1.000000        1.000000  \n",
       "75%                2.000000                1.000000        1.000000  \n",
       "max                2.000000                1.000000        1.000000  \n",
       "\n",
       "[8 rows x 26 columns]"
      ]
     },
     "execution_count": 108,
     "metadata": {},
     "output_type": "execute_result"
    }
   ],
   "source": [
    "df.describe()"
   ]
  },
  {
   "cell_type": "code",
   "execution_count": 109,
   "metadata": {},
   "outputs": [
    {
     "data": {
      "text/plain": [
       "Index(['amount_tsh', 'gps_height', 'longitude', 'latitude', 'num_private',\n",
       "       'population', 'construction_year', 'basin_encoded', 'region_encoded',\n",
       "       'recorded_by_encoded', 'scheme_management_encoded',\n",
       "       'extraction_type_encoded', 'extraction_type_class_encoded',\n",
       "       'management_encoded', 'payment_encoded', 'payment_type_encoded',\n",
       "       'water_quality_encoded', 'quality_group_encoded', 'quantity_encoded',\n",
       "       'quantity_group_encoded', 'source_encoded', 'waterpoint_type_encoded',\n",
       "       'waterpoint_type_group_encoded', 'status_group_encoded',\n",
       "       'public_meeting_encoded', 'permit_encoded'],\n",
       "      dtype='object')"
      ]
     },
     "execution_count": 109,
     "metadata": {},
     "output_type": "execute_result"
    }
   ],
   "source": [
    "df.columns"
   ]
  },
  {
   "cell_type": "code",
   "execution_count": 110,
   "metadata": {},
   "outputs": [
    {
     "data": {
      "text/plain": [
       "amount_tsh                       float64\n",
       "gps_height                       float64\n",
       "longitude                        float64\n",
       "latitude                         float64\n",
       "num_private                      float64\n",
       "population                       float64\n",
       "construction_year                float64\n",
       "basin_encoded                    float64\n",
       "region_encoded                     int64\n",
       "recorded_by_encoded                int64\n",
       "scheme_management_encoded          int64\n",
       "extraction_type_encoded            int64\n",
       "extraction_type_class_encoded      int64\n",
       "management_encoded                 int64\n",
       "payment_encoded                    int64\n",
       "payment_type_encoded               int64\n",
       "water_quality_encoded              int64\n",
       "quality_group_encoded              int64\n",
       "quantity_encoded                   int64\n",
       "quantity_group_encoded             int64\n",
       "source_encoded                     int64\n",
       "waterpoint_type_encoded            int64\n",
       "waterpoint_type_group_encoded      int64\n",
       "status_group_encoded               int64\n",
       "public_meeting_encoded             int64\n",
       "permit_encoded                     int64\n",
       "dtype: object"
      ]
     },
     "execution_count": 110,
     "metadata": {},
     "output_type": "execute_result"
    }
   ],
   "source": [
    "df.dtypes"
   ]
  },
  {
   "cell_type": "markdown",
   "metadata": {},
   "source": [
    "### Which Algorithms \n",
    "Well the outcome var is multi-class categorical -> multi-class classification\n",
    "\n",
    "The task description doesn't give any implication of the importance of explainability, but it seems like it would\n",
    "be important\n",
    "\n",
    "Also speed vs accuracy, not mentioned but I'd guess accuracy is more important, as long as I can run it within the time limit, which actually isn't that long all of a sudden\n",
    "\n",
    "Features include continuous and categorical\n",
    "\n",
    "In no particular order, options:\n",
    "    1. Elastic-net regularized logistic regression\n",
    "    2. Boosted Trees\n",
    "    3. Neural Net\n",
    "    4. Kernel SVM\n",
    "\n",
    "I'd also like to do some unsupervised clustering, to see if there's overlap with the outcome var and because it makes pretty graphs ;)\n",
    "    \n",
    "I'm gonna go with the boosted trees first, seems like the best bet for these parameters. Does well without a tonne of training data, has good libraries that easily ingest categorical features. And it looks like I only have time for one model"
   ]
  },
  {
   "cell_type": "markdown",
   "metadata": {},
   "source": [
    "### Split into training set\n"
   ]
  },
  {
   "cell_type": "code",
   "execution_count": 111,
   "metadata": {},
   "outputs": [
    {
     "data": {
      "text/plain": [
       "0    32260\n",
       "2    22823\n",
       "1     4316\n",
       "Name: status_group_encoded, dtype: int64"
      ]
     },
     "execution_count": 111,
     "metadata": {},
     "output_type": "execute_result"
    }
   ],
   "source": [
    "df.status_group_encoded.value_counts()"
   ]
  },
  {
   "cell_type": "code",
   "execution_count": 112,
   "metadata": {},
   "outputs": [],
   "source": [
    "# Is there any risk of circularity here? \n",
    "# Construction year was the only var that correlated with outcome var with > 0.1 corr coeff\n",
    "# I could break construction year into categories and split training/test by those but time..."
   ]
  },
  {
   "cell_type": "code",
   "execution_count": 114,
   "metadata": {},
   "outputs": [],
   "source": [
    "# Split into training and test. \n",
    "# TODO validation?\n",
    "train, test = train_test_split(df, test_size=0.25, random_state=25)\n",
    "train_y = train['status_group_encoded']\n",
    "train_x = train.drop(columns=['status_group_encoded'])\n",
    "test_y = test['status_group_encoded']\n",
    "test_x = test.drop(columns=['status_group_encoded'])"
   ]
  },
  {
   "cell_type": "code",
   "execution_count": 115,
   "metadata": {},
   "outputs": [],
   "source": [
    "cat_feats = [x for x in df.columns if '_encoded' in x]\n",
    "cat_feats.remove('status_group_encoded')"
   ]
  },
  {
   "cell_type": "code",
   "execution_count": 116,
   "metadata": {},
   "outputs": [
    {
     "data": {
      "text/plain": [
       "(44549, 25)"
      ]
     },
     "execution_count": 116,
     "metadata": {},
     "output_type": "execute_result"
    }
   ],
   "source": [
    "train_x.shape"
   ]
  },
  {
   "cell_type": "code",
   "execution_count": 117,
   "metadata": {},
   "outputs": [
    {
     "data": {
      "text/plain": [
       "(14850,)"
      ]
     },
     "execution_count": 117,
     "metadata": {},
     "output_type": "execute_result"
    }
   ],
   "source": [
    "test_y.shape"
   ]
  },
  {
   "cell_type": "code",
   "execution_count": null,
   "metadata": {},
   "outputs": [],
   "source": [
    "# Note that the observations to features ratio is high, well beyond the 10:1 rule of thumb"
   ]
  },
  {
   "cell_type": "code",
   "execution_count": 118,
   "metadata": {},
   "outputs": [
    {
     "name": "stdout",
     "output_type": "stream",
     "text": [
      "0    8121\n",
      "2    5644\n",
      "1    1085\n",
      "Name: status_group_encoded, dtype: int64\n",
      "0    24139\n",
      "2    17179\n",
      "1     3231\n",
      "Name: status_group_encoded, dtype: int64\n"
     ]
    }
   ],
   "source": [
    "## Make sure the class balance makes sense in both training and test\n",
    "# There is imbalance, ideally I'd adjust the training set to be as balanced as possible\n",
    "# Additionally I'd test outcome with balanced accuracy score\n",
    "print(test_y.value_counts())\n",
    "print(train_y.value_counts())"
   ]
  },
  {
   "cell_type": "markdown",
   "metadata": {},
   "source": [
    "## MODEL 1: Boosted Trees"
   ]
  },
  {
   "cell_type": "code",
   "execution_count": 127,
   "metadata": {},
   "outputs": [
    {
     "data": {
      "text/plain": [
       "array([[9.82397669e-01, 1.78279317e-03, 1.58195379e-02],\n",
       "       [1.79042408e-01, 1.48604727e-02, 8.06097120e-01],\n",
       "       [1.69962632e-03, 2.70626201e-04, 9.98029747e-01],\n",
       "       ...,\n",
       "       [9.35453858e-01, 2.38360750e-02, 4.07100673e-02],\n",
       "       [4.70776905e-02, 1.23564412e-03, 9.51686665e-01],\n",
       "       [7.29373603e-01, 1.32186751e-02, 2.57407722e-01]])"
      ]
     },
     "execution_count": 127,
     "metadata": {},
     "output_type": "execute_result"
    }
   ],
   "source": [
    "## Train and run boosted trees LGB\n",
    "\n",
    "# setup input in the right format\n",
    "d_train=lgb.Dataset(train_x, label=train_y)\n",
    "\n",
    "# establish model\n",
    "lg = lgb.LGBMClassifier(silent=False)\n",
    "\n",
    "#training the model\n",
    "params = {\"max_depth\": 50, \"objective\" : [\"multiclass\"], \"num_class\" : [3], \n",
    "          \"learning_rate\" : 0.1, \"num_leaves\": 300,  \"n_estimators\": 100, \"nfold\":3, \"metrics\":'multi_error'}\n",
    "model=lgb.train(params, d_train, 200, categorical_feature = cat_feats)  #training the model on 100 epocs\n",
    "\n",
    "#prediction on the test dataset\n",
    "y_pred_1=model.predict(test_x)\n",
    "\n",
    "#printing the predictions\n",
    "y_pred_1"
   ]
  },
  {
   "cell_type": "code",
   "execution_count": 128,
   "metadata": {},
   "outputs": [],
   "source": [
    "## We receive probabilities for each outcome class\n",
    "# Take the most likely of these as our outcome\n",
    "preds = [list(x).index(max(x)) for x in y_pred_1]"
   ]
  },
  {
   "cell_type": "code",
   "execution_count": 129,
   "metadata": {},
   "outputs": [],
   "source": [
    "def multiclass_roc_auc_score(y_test, y_pred, average=\"macro\"):\n",
    "    lb = LabelBinarizer()\n",
    "    lb.fit(y_test)\n",
    "    y_test = lb.transform(y_test)\n",
    "    y_pred = lb.transform(y_pred)\n",
    "    return metrics.roc_auc_score(y_test, y_pred, average=average)"
   ]
  },
  {
   "cell_type": "markdown",
   "metadata": {},
   "source": [
    "### RESULTS"
   ]
  },
  {
   "cell_type": "code",
   "execution_count": 130,
   "metadata": {},
   "outputs": [
    {
     "data": {
      "text/plain": [
       "0.7671306500775895"
      ]
     },
     "execution_count": 130,
     "metadata": {},
     "output_type": "execute_result"
    }
   ],
   "source": [
    "## Get AUC \n",
    "# .77\n",
    "multiclass_roc_auc_score(test_y, preds)"
   ]
  },
  {
   "cell_type": "code",
   "execution_count": 131,
   "metadata": {},
   "outputs": [
    {
     "data": {
      "text/plain": [
       "0.6595882019266623"
      ]
     },
     "execution_count": 131,
     "metadata": {},
     "output_type": "execute_result"
    }
   ],
   "source": [
    "## Get Balanced Accuracy Score to account for the class imbalance of the outcome var\n",
    "# .66\n",
    "metrics.balanced_accuracy_score(test_y, preds)"
   ]
  },
  {
   "cell_type": "code",
   "execution_count": 135,
   "metadata": {},
   "outputs": [
    {
     "data": {
      "image/png": "[encoded data removed]",
      "text/plain": [
       "<Figure size 1080x1080 with 1 Axes>"
      ]
     },
     "metadata": {
      "needs_background": "light"
     },
     "output_type": "display_data"
    }
   ],
   "source": [
    "# Dig into the relative contribution of each feature\n",
    "\n",
    "ax = lgb.plot_importance(model, max_num_features=40, figsize=(15,15))"
   ]
  },
  {
   "cell_type": "markdown",
   "metadata": {},
   "source": [
    "##### Alright so looks like my point biserial correlation didn't fully pick up on the predictive capacity of the numeric variables on the outcome var. Apart from construction year, maybe these relationships are non linear which is why I should next develop a Python package implementing a distance-correlation equivalent of point biserial correlation or maybe even google it to see how I could detect non-linear continuous-categorical relationships.  "
   ]
  },
  {
   "cell_type": "code",
   "execution_count": 2,
   "metadata": {},
   "outputs": [],
   "source": [
    "## There's a lot I didn't get time to do. In vague order of priority:\n",
    "# - the cleaning tasks that I described but didn't do\n",
    "# - salvage the messy categorical vars as described in a previous comment. Also the datetime var\n",
    "# - More hyperparameter tuning and cross validation for the existing model\n",
    "# - Develop a second model from my list of options and compare the two\n",
    "# - In real life I'd look for extra and complimentary data\n",
    "# - Ensemble model\n",
    "# - I should have a pip requirements file or similar to make it easy for others to run these notebooks\n"
   ]
  }
 ],
 "metadata": {
  "kernelspec": {
   "display_name": "Python 3",
   "language": "python",
   "name": "python3"
  },
  "language_info": {
   "codemirror_mode": {
    "name": "ipython",
    "version": 3
   },
   "file_extension": ".py",
   "mimetype": "text/x-python",
   "name": "python",
   "nbconvert_exporter": "python",
   "pygments_lexer": "ipython3",
   "version": "3.6.9"
  }
 },
 "nbformat": 4,
 "nbformat_minor": 2
}
